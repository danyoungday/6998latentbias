{
 "cells": [
  {
   "cell_type": "code",
   "execution_count": 19,
   "id": "7e0d07b9-39c6-456c-a3ab-2c4e5f961770",
   "metadata": {},
   "outputs": [],
   "source": [
    "import torch\n",
    "import torch.nn as nn\n",
    "import numpy as np\n",
    "import json\n",
    "from tqdm import tqdm\n",
    "import copy\n",
    "import os\n",
    "\n",
    "from transformers import AutoTokenizer, AutoModelForCausalLM\n",
    "\n",
    "from sklearn.linear_model import LogisticRegression"
   ]
  },
  {
   "cell_type": "code",
   "execution_count": 20,
   "id": "0c655bda",
   "metadata": {},
   "outputs": [],
   "source": [
    "SAVE_DIR = os.path.join(os.getcwd(), \"saved/\")\n",
    "if not os.path.exists(SAVE_DIR):\n",
    "    os.mkdir(SAVE_DIR)\n",
    "CACHE_DIR = \"cache_dir\"\n",
    "DEVICE = \"mps\""
   ]
  },
  {
   "cell_type": "markdown",
   "id": "ca816fbe-b0e0-4a7b-bdee-02d9b2e3d680",
   "metadata": {
    "tags": []
   },
   "source": [
    "### Extract Hidden States"
   ]
  },
  {
   "cell_type": "code",
   "execution_count": 21,
   "id": "ff25434a-6c6c-4bbf-8347-49d4c986f3a3",
   "metadata": {},
   "outputs": [],
   "source": [
    "def get_encoder_hidden_states(model, tokenizer, input_text, layer):\n",
    "    \"\"\"\n",
    "    Given an encoder model and some text, gets the encoder hidden states (in a given layer, by default the last) \n",
    "    on that input text (where the full text is given to the encoder).\n",
    "\n",
    "    Returns a numpy array of shape (hidden_dim,)\n",
    "    \"\"\"\n",
    "    # tokenize\n",
    "    encoder_text_ids = tokenizer(input_text, truncation=True, return_tensors=\"pt\").input_ids.to(model.device)\n",
    "\n",
    "    # forward pass\n",
    "    with torch.no_grad():\n",
    "        output = model(encoder_text_ids, output_hidden_states=True)\n",
    "\n",
    "    # get the appropriate hidden states\n",
    "    hs_tuple = output[\"hidden_states\"]\n",
    "    \n",
    "    # get the last layer, last token hidden states\n",
    "    hs_tuple = output[\"hidden_states\"]\n",
    "    if layer:\n",
    "        hs = hs_tuple[layer][0, -1].detach().cpu().numpy()\n",
    "    \n",
    "    # If we do not specify a layer, get them all. Still only get the last token\n",
    "    else:\n",
    "        hs = torch.concatenate(hs_tuple, axis=0)[:,-1,:]\n",
    "        hs = hs.detach().cpu().numpy()\n",
    "\n",
    "    return hs\n",
    "\n",
    "def get_decoder_hidden_states(model, tokenizer, input_text, layer):\n",
    "    \"\"\"\n",
    "    Given a decoder model and some text, gets the hidden states (in a given layer, by default the last) on that input text\n",
    "\n",
    "    Returns a numpy array of shape (hidden_dim,)\n",
    "    \"\"\"\n",
    "    # tokenize (adding the EOS token this time)\n",
    "    input_ids = tokenizer(input_text + tokenizer.eos_token, return_tensors=\"pt\").input_ids.to(model.device)\n",
    "\n",
    "    # forward pass\n",
    "    with torch.no_grad():\n",
    "        output = model(input_ids, output_hidden_states=True)\n",
    "\n",
    "    # get the last layer, last token hidden states\n",
    "    hs_tuple = output[\"hidden_states\"]\n",
    "    if layer:\n",
    "        hs = hs_tuple[layer][0, -1].detach().cpu().numpy()\n",
    "    \n",
    "    # If we do not specify a layer, get them all. Still only get the last token\n",
    "    else:\n",
    "        hs = torch.concatenate(hs_tuple, axis=0)[:,-1,:]\n",
    "        hs = hs.detach().cpu().numpy()\n",
    "        \n",
    "    return hs\n",
    "\n",
    "def format_imdb(text, label):\n",
    "    \"\"\"\n",
    "    Given an imdb example (\"text\") and corresponding label (0 for negative, or 1 for positive), \n",
    "    returns a zero-shot prompt for that example (which includes that label as the answer).\n",
    "    \n",
    "    (This is just one example of a simple, manually created prompt.)\n",
    "    \"\"\"\n",
    "    return \"The following movie review expresses a \" + [\"negative\", \"positive\"][label] + \" sentiment:\\n\" + text\n",
    "\n",
    "def format_profession(text, label):\n",
    "    return f\"The following profession refers to a person who's gender is f{['female', 'male'][label]}:\\n{text}\"\n",
    "\n",
    "def get_hidden_states_many_examples(model, model_type, tokenizer, data, layer):\n",
    "    \"\"\"\n",
    "    Given an encoder-decoder model, a list of data, computes the contrast hidden states on n random examples.\n",
    "    Returns numpy arrays of shape (n, hidden_dim) for each candidate label, along with a boolean numpy array of shape (n,)\n",
    "    with the ground truth labels\n",
    "    This is deliberately simple so that it's easy to understand, rather than being optimized for efficiency\n",
    "    \"\"\"\n",
    "    # setup\n",
    "    model.eval()\n",
    "    all_neg_hs, all_pos_hs, all_gt_labels = [], [], []\n",
    "\n",
    "    # loop\n",
    "    for text in tqdm(data):\n",
    "        # get hidden states\n",
    "        if model_type == \"encoder\":\n",
    "            neg_hs = get_encoder_hidden_states(model, tokenizer, format_profession(text, 0), layer=layer)\n",
    "            pos_hs = get_encoder_hidden_states(model, tokenizer, format_profession(text, 1), layer=layer)\n",
    "        elif model_type == \"decoder\":\n",
    "            neg_hs = get_decoder_hidden_states(model, tokenizer, format_profession(text, 0), layer=layer)\n",
    "            pos_hs = get_decoder_hidden_states(model, tokenizer, format_profession(text, 1), layer=layer)\n",
    "        else:\n",
    "            assert False, \"Invalid model type\"\n",
    "        # collect\n",
    "        all_neg_hs.append(neg_hs)\n",
    "        all_pos_hs.append(pos_hs)\n",
    "    \n",
    "    # Stack into single array\n",
    "    all_neg_hs = np.stack(all_neg_hs)\n",
    "    all_pos_hs = np.stack(all_pos_hs)\n",
    "        \n",
    "    return all_neg_hs, all_pos_hs\n",
    "\n",
    "def parse_professions(professions_path):\n",
    "    with open(professions_path, \"r\") as f:\n",
    "        professions = json.load(f)\n",
    "    \n",
    "    profession_list = []\n",
    "    labels = []\n",
    "    for profession in professions:\n",
    "        if profession[2] < 0:\n",
    "            labels.append(0)\n",
    "            profession_list.append(profession[0])\n",
    "        elif profession[2] > 0:\n",
    "            labels.append(1)\n",
    "            profession_list.append(profession[0])\n",
    "    \n",
    "    return np.array(profession_list), np.array(labels)"
   ]
  },
  {
   "cell_type": "code",
   "execution_count": 22,
   "id": "c24333ec",
   "metadata": {},
   "outputs": [],
   "source": [
    "def save_hidden_states(model_name, model_type, trial_name, professions, y, verbose=False):\n",
    "\n",
    "    # Load model\n",
    "    tokenizer = AutoTokenizer.from_pretrained(model_name, cache_dir=CACHE_DIR)\n",
    "    model = AutoModelForCausalLM.from_pretrained(model_name, cache_dir=CACHE_DIR)\n",
    "    model = model.to(DEVICE)\n",
    "    \n",
    "\n",
    "    # Get hidden states\n",
    "    all_neg, all_pos = get_hidden_states_many_examples(model, model_type, tokenizer, professions, layer=None)\n",
    "\n",
    "    if verbose:\n",
    "        print(all_neg.shape, all_pos.shape, y.shape)\n",
    "\n",
    "    # Save hidden states\n",
    "    root = os.path.join(SAVE_DIR, trial_name)\n",
    "    if not os.path.exists(root):\n",
    "        os.mkdir(root)\n",
    "    np.save(os.path.join(root, \"fem-hs.npy\"), all_neg)\n",
    "    np.save(os.path.join(root, \"male-hs.npy\"), all_pos)\n",
    "    np.save(os.path.join(root, \"y.npy\"), y)"
   ]
  },
  {
   "cell_type": "code",
   "execution_count": 23,
   "id": "32352f2f",
   "metadata": {},
   "outputs": [
    {
     "name": "stderr",
     "output_type": "stream",
     "text": [
      "If you want to use `RobertaLMHeadModel` as a standalone, add `is_decoder=True.`\n",
      "100%|██████████| 290/290 [00:34<00:00,  8.29it/s]\n"
     ]
    },
    {
     "name": "stdout",
     "output_type": "stream",
     "text": [
      "(290, 13, 768) (290, 13, 768) (290,)\n"
     ]
    },
    {
     "data": {
      "application/vnd.jupyter.widget-view+json": {
       "model_id": "ab4b1caaca01478284eb01f8e0da4951",
       "version_major": 2,
       "version_minor": 0
      },
      "text/plain": [
       "Downloading (…)lve/main/config.json:   0%|          | 0.00/482 [00:00<?, ?B/s]"
      ]
     },
     "metadata": {},
     "output_type": "display_data"
    },
    {
     "data": {
      "application/vnd.jupyter.widget-view+json": {
       "model_id": "7e57fbb33e5f4daba92ec7f8aca31238",
       "version_major": 2,
       "version_minor": 0
      },
      "text/plain": [
       "Downloading (…)olve/main/vocab.json:   0%|          | 0.00/899k [00:00<?, ?B/s]"
      ]
     },
     "metadata": {},
     "output_type": "display_data"
    },
    {
     "data": {
      "application/vnd.jupyter.widget-view+json": {
       "model_id": "c434ec7159344c0c899d3f094ad19674",
       "version_major": 2,
       "version_minor": 0
      },
      "text/plain": [
       "Downloading (…)olve/main/merges.txt:   0%|          | 0.00/456k [00:00<?, ?B/s]"
      ]
     },
     "metadata": {},
     "output_type": "display_data"
    },
    {
     "data": {
      "application/vnd.jupyter.widget-view+json": {
       "model_id": "331d02478d064b5d8b87f098ae97c29e",
       "version_major": 2,
       "version_minor": 0
      },
      "text/plain": [
       "Downloading (…)/main/tokenizer.json:   0%|          | 0.00/1.36M [00:00<?, ?B/s]"
      ]
     },
     "metadata": {},
     "output_type": "display_data"
    },
    {
     "data": {
      "application/vnd.jupyter.widget-view+json": {
       "model_id": "b34039214c3f4effb35e2ef84eff1fc1",
       "version_major": 2,
       "version_minor": 0
      },
      "text/plain": [
       "Downloading model.safetensors:   0%|          | 0.00/1.42G [00:00<?, ?B/s]"
      ]
     },
     "metadata": {},
     "output_type": "display_data"
    },
    {
     "name": "stderr",
     "output_type": "stream",
     "text": [
      "If you want to use `RobertaLMHeadModel` as a standalone, add `is_decoder=True.`\n",
      "100%|██████████| 290/290 [01:28<00:00,  3.29it/s]\n"
     ]
    },
    {
     "name": "stdout",
     "output_type": "stream",
     "text": [
      "(290, 25, 1024) (290, 25, 1024) (290,)\n"
     ]
    }
   ],
   "source": [
    "trials = {\n",
    "    \"roberta-base\": {\n",
    "        \"model_name\": \"roberta-base\",\n",
    "        \"model_type\": \"encoder\",\n",
    "    },\n",
    "    \"roberta-large\": {\n",
    "        \"model_name\": \"roberta-large\",\n",
    "        \"model_type\": \"encoder\"\n",
    "    }\n",
    "}\n",
    "professions, y = parse_professions(\"professions.json\")\n",
    "for trial_name in trials.keys():\n",
    "    trial = trials[trial_name]\n",
    "    save_hidden_states(trial[\"model_name\"], trial[\"model_type\"], trial_name, professions, y, True)"
   ]
  }
 ],
 "metadata": {
  "environment": {
   "kernel": "python3",
   "name": "pytorch-gpu.2-0.m111",
   "type": "gcloud",
   "uri": "gcr.io/deeplearning-platform-release/pytorch-gpu.2-0:m111"
  },
  "kernelspec": {
   "display_name": "Python 3",
   "language": "python",
   "name": "python3"
  },
  "language_info": {
   "codemirror_mode": {
    "name": "ipython",
    "version": 3
   },
   "file_extension": ".py",
   "mimetype": "text/x-python",
   "name": "python",
   "nbconvert_exporter": "python",
   "pygments_lexer": "ipython3",
   "version": "3.11.5"
  }
 },
 "nbformat": 4,
 "nbformat_minor": 5
}
