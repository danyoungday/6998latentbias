{
 "cells": [
  {
   "cell_type": "code",
   "execution_count": 52,
   "id": "57c93b21-317b-458e-ad88-f24054d16b60",
   "metadata": {},
   "outputs": [],
   "source": [
    "import torch\n",
    "import torch.nn as nn\n",
    "import torch.nn.functional as F\n",
    "import numpy as np\n",
    "import json\n",
    "from tqdm import tqdm\n",
    "import copy\n",
    "import os\n",
    "import pandas as pd\n",
    "import matplotlib.pyplot as plt\n",
    "\n",
    "from transformers import AutoTokenizer, AutoModelForCausalLM\n",
    "\n",
    "from sklearn.linear_model import LogisticRegression\n",
    "from sklearn.metrics import f1_score, accuracy_score, confusion_matrix\n",
    "from sklearn.model_selection import train_test_split\n",
    "\n",
    "from scipy.stats import binomtest\n",
    "\n",
    "# To ignore warnings\n",
    "from sklearn.utils._testing import ignore_warnings\n",
    "from sklearn.exceptions import ConvergenceWarning"
   ]
  },
  {
   "cell_type": "code",
   "execution_count": 53,
   "id": "6d645634",
   "metadata": {},
   "outputs": [],
   "source": [
    "EPS = 1e-5\n",
    "BASELINE_F1 = 0.7758620689655172"
   ]
  },
  {
   "cell_type": "code",
   "execution_count": 54,
   "id": "5f3c35d1",
   "metadata": {},
   "outputs": [],
   "source": [
    "class Scaler():\n",
    "    def __init__(self, eps=EPS):\n",
    "        self.mean = None\n",
    "        self.std = None\n",
    "        self.eps = eps\n",
    "\n",
    "    def fit(self, x):\n",
    "        self.mean = x.mean(axis=0, keepdims=True)\n",
    "        self.std = x.std(axis=0, keepdims=True)\n",
    "\n",
    "    def normalize(self, x):\n",
    "        \"\"\"\n",
    "        Normalizes the data x (of shape (n, d))\n",
    "        \"\"\"\n",
    "        normalized_x = x - self.mean\n",
    "        normalized_x /= (self.std + EPS)\n",
    "        return normalized_x"
   ]
  },
  {
   "cell_type": "code",
   "execution_count": 55,
   "id": "3145aabd-3398-414f-b5e2-b2865991906a",
   "metadata": {},
   "outputs": [],
   "source": [
    "class MLPProbe(nn.Module):\n",
    "    def __init__(self, d):\n",
    "        super().__init__()\n",
    "        self.linear1 = nn.Linear(d, 100)\n",
    "        self.linear2 = nn.Linear(100, 1)\n",
    "\n",
    "    def forward(self, x):\n",
    "        h = F.relu(self.linear1(x))\n",
    "        o = self.linear2(h)\n",
    "        return torch.sigmoid(o)\n",
    "\n",
    "class CCS(object):\n",
    "    def __init__(self, x0, x1, nepochs=1000, ntries=50, lr=1e-3, batch_size=64, \n",
    "                 verbose=False, device=\"mps\", linear=True, weight_decay=0.01):\n",
    "        # data\n",
    "        self.scaler0 = Scaler()\n",
    "        self.scaler1 = Scaler()\n",
    "        self.scaler0.fit(x0)\n",
    "        self.scaler1.fit(x1)\n",
    "\n",
    "        self.x0 = self.scaler0.normalize(x0)\n",
    "        self.x1 = self.scaler1.normalize(x1)\n",
    "        self.d = self.x0.shape[-1]\n",
    "\n",
    "        # training\n",
    "        self.nepochs = nepochs\n",
    "        self.ntries = ntries\n",
    "        self.lr = lr\n",
    "        self.verbose = verbose\n",
    "        self.device = device\n",
    "        self.batch_size = batch_size\n",
    "        self.weight_decay = weight_decay\n",
    "        \n",
    "        # probe\n",
    "        self.linear = linear\n",
    "        self.initialize_probe()\n",
    "        self.best_probe = copy.deepcopy(self.probe)\n",
    "\n",
    "        \n",
    "    def initialize_probe(self):\n",
    "        if self.linear:\n",
    "            self.probe = nn.Sequential(nn.Linear(self.d, 1), nn.Sigmoid())\n",
    "        else:\n",
    "            self.probe = MLPProbe(self.d)\n",
    "        self.probe.to(self.device)    \n",
    "\n",
    "        \n",
    "    def get_tensor_data(self):\n",
    "        \"\"\"\n",
    "        Returns x0, x1 as appropriate tensors (rather than np arrays)\n",
    "        \"\"\"\n",
    "        x0 = torch.tensor(self.x0, dtype=torch.float, requires_grad=False, device=self.device)\n",
    "        x1 = torch.tensor(self.x1, dtype=torch.float, requires_grad=False, device=self.device)\n",
    "        return x0, x1\n",
    "    \n",
    "\n",
    "    def get_loss(self, p0, p1):\n",
    "        \"\"\"\n",
    "        Returns the CCS loss for two probabilities each of shape (n,1) or (n,)\n",
    "        \"\"\"\n",
    "        informative_loss = (torch.min(p0, p1)**2).mean(0)\n",
    "        consistent_loss = ((p0 - (1-p1))**2).mean(0)\n",
    "        return informative_loss + consistent_loss\n",
    "\n",
    "\n",
    "    def get_acc(self, x0_test, x1_test, y_test):\n",
    "        \"\"\"\n",
    "        Computes accuracy for the current parameters on the given test inputs\n",
    "        \"\"\"\n",
    "        x0 = torch.tensor(self.scaler0.normalize(x0_test), dtype=torch.float, requires_grad=False, device=self.device)\n",
    "        x1 = torch.tensor(self.scaler1.normalize(x1_test), dtype=torch.float, requires_grad=False, device=self.device)\n",
    "        with torch.no_grad():\n",
    "            p0, p1 = self.best_probe(x0), self.best_probe(x1)\n",
    "        avg_confidence = 0.5*(p0 + (1-p1))\n",
    "        predictions = (avg_confidence.detach().cpu().numpy() < 0.5).astype(int)[:, 0]\n",
    "        acc = (predictions == y_test).mean()\n",
    "        acc = max(acc, 1 - acc)\n",
    "\n",
    "        return acc\n",
    "    \n",
    "        \n",
    "    def train(self):\n",
    "        \"\"\"\n",
    "        Does a single training run of nepochs epochs\n",
    "        \"\"\"\n",
    "        x0, x1 = self.get_tensor_data()\n",
    "        permutation = torch.randperm(len(x0))\n",
    "        x0, x1 = x0[permutation], x1[permutation]\n",
    "        \n",
    "        # set up optimizer\n",
    "        optimizer = torch.optim.AdamW(self.probe.parameters(), lr=self.lr, weight_decay=self.weight_decay)\n",
    "        \n",
    "        batch_size = len(x0) if self.batch_size == -1 else self.batch_size\n",
    "        nbatches = len(x0) // batch_size\n",
    "\n",
    "        # Start training (full batch)\n",
    "        for epoch in range(self.nepochs):\n",
    "            for j in range(nbatches):\n",
    "                x0_batch = x0[j*batch_size:(j+1)*batch_size]\n",
    "                x1_batch = x1[j*batch_size:(j+1)*batch_size]\n",
    "            \n",
    "                # probe\n",
    "                p0, p1 = self.probe(x0_batch), self.probe(x1_batch)\n",
    "                # get the corresponding loss\n",
    "                loss = self.get_loss(p0, p1)\n",
    "\n",
    "                # update the parameters\n",
    "                optimizer.zero_grad()\n",
    "                loss.backward()\n",
    "                optimizer.step()\n",
    "\n",
    "        return loss.detach().cpu().item()\n",
    "    \n",
    "    def repeated_train(self):\n",
    "        best_loss = np.inf\n",
    "        for train_num in range(self.ntries):\n",
    "            self.initialize_probe()\n",
    "            loss = self.train()\n",
    "            if loss < best_loss:\n",
    "                self.best_probe = copy.deepcopy(self.probe)\n",
    "                best_loss = loss\n",
    "\n",
    "        return best_loss\n",
    "    \n",
    "    def predict(self, pos, neg):\n",
    "        x0 = torch.tensor(self.scaler0.normalize(pos), dtype=torch.float, requires_grad=False, device=self.device)\n",
    "        x1 = torch.tensor(self.scaler1.normalize(neg), dtype=torch.float, requires_grad=False, device=self.device)\n",
    "        with torch.no_grad():\n",
    "            p0, p1 = self.best_probe(x0), self.best_probe(x1)\n",
    "        avg_confidence = 0.5*(p0 + (1-p1))\n",
    "        predictions = (avg_confidence.detach().cpu().numpy() < 0.5).astype(int)[:, 0]\n",
    "        return predictions"
   ]
  },
  {
   "cell_type": "code",
   "execution_count": 56,
   "id": "d0bc7fbf",
   "metadata": {},
   "outputs": [],
   "source": [
    "def unstack_prompts(data):\n",
    "    return data.transpose(0, 3, 1, 2).reshape(data.shape[0] * data.shape[3], data.shape[1], data.shape[2])\n",
    "\n",
    "def process_data(saved_names, verbose=False):\n",
    "    \"\"\"\n",
    "    1. Loads data\n",
    "    2. Stacks into numpy shape (professions x layers x dim x prompts)\n",
    "    3. Undersample majority class if needed\n",
    "    4. Split into train/test split across professions dim\n",
    "    5. Unstacks prompts into (professions * prompts x layers x dim)\n",
    "    Output shape:\n",
    "        hs: (professions * prompts x layers x dim)\n",
    "        y: (professions * prompts)\n",
    "    \"\"\"\n",
    "    path = os.path.join(os.getcwd(), \"saved\")\n",
    "    total_neg = []\n",
    "    total_pos = []\n",
    "    total_y = []\n",
    "    # Load all results\n",
    "    for saved_name in saved_names:\n",
    "        root = os.path.join(path, saved_name)\n",
    "        total_neg.append(np.load(os.path.join(root, \"fem-hs.npy\")))\n",
    "        total_pos.append(np.load(os.path.join(root, \"male-hs.npy\")))\n",
    "        total_y.append(np.load(os.path.join(root, \"y.npy\")))\n",
    "\n",
    "    # Stack results on last dim\n",
    "    neg_hs_layers = np.stack(total_neg, axis=-1)\n",
    "    pos_hs_layers = np.stack(total_pos, axis=-1)\n",
    "    y = np.stack(total_y, axis=-1)\n",
    "\n",
    "    # Randomly permute\n",
    "    n = y.shape[0]\n",
    "    p = np.random.permutation(n)\n",
    "    neg_hs_layers = neg_hs_layers[p]\n",
    "    pos_hs_layers = pos_hs_layers[p]\n",
    "    y = y[p]\n",
    "\n",
    "    # Train test split\n",
    "    # We want to maintain our label proportions\n",
    "    neg_hs_train, neg_hs_test, pos_hs_train, pos_hs_test, y_train, y_test = train_test_split(neg_hs_layers, \n",
    "                                                                                             pos_hs_layers, \n",
    "                                                                                             y, \n",
    "                                                                                             test_size=0.2, \n",
    "                                                                                             shuffle=True, \n",
    "                                                                                             stratify=y)\n",
    "    \n",
    "\n",
    "    # Undo stack on dim=-1 to ungroup prompts from professions\n",
    "    neg_hs_train = unstack_prompts(neg_hs_train)\n",
    "    neg_hs_test = unstack_prompts(neg_hs_test)\n",
    "    pos_hs_train = unstack_prompts(pos_hs_train)\n",
    "    pos_hs_test = unstack_prompts(pos_hs_test)\n",
    "    y_train = y_train.reshape(y_train.shape[0] * y_train.shape[1])\n",
    "    y_test = y_test.reshape(y_test.shape[0] * y_test.shape[1])\n",
    "\n",
    "    if verbose:\n",
    "        print(neg_hs_train.shape, pos_hs_train.shape, y_train.shape, neg_hs_test.shape, pos_hs_test.shape, y_test.shape)\n",
    "\n",
    "    return (neg_hs_train, pos_hs_train, y_train), (neg_hs_test, pos_hs_test, y_test)"
   ]
  },
  {
   "cell_type": "code",
   "execution_count": 57,
   "id": "cb99eb34",
   "metadata": {},
   "outputs": [],
   "source": [
    "@ignore_warnings(category=ConvergenceWarning)\n",
    "def train_lr(train_data, test_data, verbose=True):\n",
    "    \"\"\"\n",
    "    Trains and evaluates logistic regression on difference of pos and neg hs\n",
    "    Input: tuples of (neg_hs, pos_hs, y)\n",
    "    \"\"\"\n",
    "    neg_hs_train, pos_hs_train, y_train = train_data\n",
    "    neg_hs_test, pos_hs_test, y_test = test_data\n",
    "\n",
    "    # Scale hidden states\n",
    "    scaler0 = Scaler()\n",
    "    scaler1 = Scaler()\n",
    "    scaler0.fit(neg_hs_train)\n",
    "    scaler1.fit(pos_hs_train)\n",
    "    neg_hs_train = scaler0.normalize(neg_hs_train)\n",
    "    pos_hs_train = scaler1.normalize(pos_hs_train)\n",
    "    neg_hs_test = scaler0.normalize(neg_hs_test)\n",
    "    pos_hs_test = scaler1.normalize(pos_hs_test)\n",
    "\n",
    "    # for simplicity we can just take the difference between positive and negative hidden states\n",
    "    # (concatenating also works fine)\n",
    "    x_train = neg_hs_train - pos_hs_train\n",
    "    lr = LogisticRegression(class_weight=\"balanced\")\n",
    "    lr.fit(x_train, y_train)\n",
    "    \n",
    "    x_test = neg_hs_test - pos_hs_test\n",
    "    lr_pred = lr.predict(x_test)\n",
    "    f1 = f1_score(y_test, lr_pred)\n",
    "    acc = accuracy_score(y_test, lr_pred)\n",
    "    # k = (y_test == lr_pred).sum()\n",
    "    # p = y_test.sum() / len(y_test)\n",
    "    if verbose:\n",
    "        print(f\"lr f1 score: {f1}\")\n",
    "        print(f\"lr accuracy: {acc}\")\n",
    "        # print(f\"p-value: {binomtest(k, len(y_test),p=p, alternative='greater').pvalue}\")\n",
    "        print(confusion_matrix(y_test, lr_pred))\n",
    "\n",
    "    return lr, f1"
   ]
  },
  {
   "cell_type": "code",
   "execution_count": 58,
   "id": "8abf73bf",
   "metadata": {},
   "outputs": [],
   "source": [
    "def train_ccs(train_data, test_data, verbose=True):\n",
    "    \"\"\"\n",
    "    Trains and evaluates ccs\n",
    "    Input: tuples of (neg_hs, pos_hs, y)\n",
    "    \"\"\"\n",
    "    neg_hs_train, pos_hs_train, y_train = train_data\n",
    "    neg_hs_test, pos_hs_test, y_test = test_data\n",
    "\n",
    "    ccs = CCS(neg_hs_train, pos_hs_train, batch_size=-1, nepochs=100)\n",
    "    loss = ccs.repeated_train()\n",
    "\n",
    "    # Normalize our test vectors\n",
    "    y_pred = ccs.predict(ccs.scaler0.normalize(neg_hs_test), ccs.scaler1.normalize(pos_hs_test))\n",
    "    f1 = f1_score(y_test, y_pred)\n",
    "    acc = accuracy_score(y_test, y_pred)\n",
    "    # k = (y_test == y_pred).sum()\n",
    "    # p = y_test.sum() / len(y_test)\n",
    "    if verbose:\n",
    "        print(f\"ccs f1 score: {f1}\")\n",
    "        print(f\"ccs accuracy: {acc}\")\n",
    "        # print(f\"p-value: {binomtest(k, len(y_test), p=p, alternative='greater').pvalue}\")\n",
    "        print(confusion_matrix(y_test, y_pred))\n",
    "\n",
    "    return ccs, f1"
   ]
  },
  {
   "cell_type": "code",
   "execution_count": 59,
   "id": "4b93da52",
   "metadata": {},
   "outputs": [],
   "source": [
    "def plot_f1(ccs_f1s, lr_f1s):\n",
    "    # Scatter points\n",
    "    plt.scatter(range(len(ccs_f1s)), ccs_f1s, label=\"ccs\")\n",
    "    plt.scatter(range(len(lr_f1s)), lr_f1s, label=\"lr\")\n",
    "    # Horizontal line at 0.5\n",
    "    plt.axhline(y=BASELINE_F1, color=\"r\", linestyle=\"-\")\n",
    "    # Set range\n",
    "    plt.ylim(0, 1)\n",
    "    plt.title(\"F1 score by Layer\")\n",
    "    plt.xlabel(\"Layer\")\n",
    "    plt.ylabel(\"F1 score\")\n",
    "    plt.legend()\n",
    "    plt.show()"
   ]
  },
  {
   "cell_type": "code",
   "execution_count": 60,
   "id": "2ff252ad",
   "metadata": {},
   "outputs": [],
   "source": [
    "def train_layers(saved_names: list, layers=None):\n",
    "    \"\"\"\n",
    "    Trains a CCS and LR predictor for each layer of the data.\n",
    "    saved names: list of saved hidden states to train on.\n",
    "    layers: list of layers to train on\n",
    "    \"\"\"\n",
    "    train_data, test_data = process_data(saved_names)\n",
    "\n",
    "    ccs_f1s = []\n",
    "    lr_f1s = []\n",
    "\n",
    "    if layers == None:\n",
    "        layers = range(train_data[0].shape[1])\n",
    "\n",
    "    for layer in tqdm(layers):\n",
    "        train_layer = (train_data[0][:,layer,:], train_data[1][:,layer,:], train_data[2])\n",
    "        test_layer = (test_data[0][:,layer,:], test_data[1][:,layer,:], test_data[2])\n",
    "        ccs, ccs_f1 = train_ccs(train_layer, test_layer)\n",
    "        l1, lr_f1 = train_lr(train_layer, test_layer)\n",
    "\n",
    "        ccs_f1s.append(ccs_f1)\n",
    "        lr_f1s.append(lr_f1)\n",
    "    return ccs_f1s, lr_f1s"
   ]
  },
  {
   "cell_type": "code",
   "execution_count": 61,
   "id": "f961110f",
   "metadata": {},
   "outputs": [
    {
     "name": "stderr",
     "output_type": "stream",
     "text": [
      "  4%|▍         | 1/25 [00:26<10:29, 26.23s/it]"
     ]
    },
    {
     "name": "stdout",
     "output_type": "stream",
     "text": [
      "ccs f1 score: 0.0\n",
      "ccs accuracy: 0.22413793103448276\n",
      "[[ 65   0]\n",
      " [225   0]]\n",
      "lr f1 score: 0.0\n",
      "lr accuracy: 0.22413793103448276\n",
      "[[ 65   0]\n",
      " [225   0]]\n",
      "ccs f1 score: 0.5235294117647059\n",
      "ccs accuracy: 0.4413793103448276\n",
      "[[ 39  26]\n",
      " [136  89]]\n"
     ]
    },
    {
     "name": "stderr",
     "output_type": "stream",
     "text": [
      "  8%|▊         | 2/25 [00:54<10:33, 27.55s/it]"
     ]
    },
    {
     "name": "stdout",
     "output_type": "stream",
     "text": [
      "lr f1 score: 0.8747152619589977\n",
      "lr accuracy: 0.8103448275862069\n",
      "[[ 43  22]\n",
      " [ 33 192]]\n",
      "ccs f1 score: 0.5235294117647059\n",
      "ccs accuracy: 0.4413793103448276\n",
      "[[ 39  26]\n",
      " [136  89]]\n"
     ]
    },
    {
     "name": "stderr",
     "output_type": "stream",
     "text": [
      " 12%|█▏        | 3/25 [01:22<10:05, 27.54s/it]"
     ]
    },
    {
     "name": "stdout",
     "output_type": "stream",
     "text": [
      "lr f1 score: 0.8309859154929576\n",
      "lr accuracy: 0.7517241379310344\n",
      "[[ 41  24]\n",
      " [ 48 177]]\n",
      "ccs f1 score: 0.6493506493506493\n",
      "ccs accuracy: 0.5344827586206896\n",
      "[[ 30  35]\n",
      " [100 125]]\n"
     ]
    },
    {
     "name": "stderr",
     "output_type": "stream",
     "text": [
      " 16%|█▌        | 4/25 [01:49<09:34, 27.35s/it]"
     ]
    },
    {
     "name": "stdout",
     "output_type": "stream",
     "text": [
      "lr f1 score: 0.8590909090909091\n",
      "lr accuracy: 0.7862068965517242\n",
      "[[ 39  26]\n",
      " [ 36 189]]\n"
     ]
    },
    {
     "name": "stderr",
     "output_type": "stream",
     "text": [
      " 20%|██        | 5/25 [02:16<09:08, 27.41s/it]"
     ]
    },
    {
     "name": "stdout",
     "output_type": "stream",
     "text": [
      "ccs f1 score: 0.31802120141342755\n",
      "ccs accuracy: 0.33448275862068966\n",
      "[[ 52  13]\n",
      " [180  45]]\n",
      "lr f1 score: 0.8662131519274376\n",
      "lr accuracy: 0.7965517241379311\n",
      "[[ 40  25]\n",
      " [ 34 191]]\n",
      "ccs f1 score: 0.4744744744744745\n",
      "ccs accuracy: 0.39655172413793105\n",
      "[[ 36  29]\n",
      " [146  79]]\n"
     ]
    },
    {
     "name": "stderr",
     "output_type": "stream",
     "text": [
      " 24%|██▍       | 6/25 [02:43<08:37, 27.25s/it]"
     ]
    },
    {
     "name": "stdout",
     "output_type": "stream",
     "text": [
      "lr f1 score: 0.8571428571428572\n",
      "lr accuracy: 0.7793103448275862\n",
      "[[ 34  31]\n",
      " [ 33 192]]\n"
     ]
    },
    {
     "name": "stderr",
     "output_type": "stream",
     "text": [
      " 28%|██▊       | 7/25 [03:10<08:05, 26.98s/it]"
     ]
    },
    {
     "name": "stdout",
     "output_type": "stream",
     "text": [
      "ccs f1 score: 0.4878048780487806\n",
      "ccs accuracy: 0.4206896551724138\n",
      "[[ 42  23]\n",
      " [145  80]]\n",
      "lr f1 score: 0.7943925233644858\n",
      "lr accuracy: 0.696551724137931\n",
      "[[ 32  33]\n",
      " [ 55 170]]\n"
     ]
    },
    {
     "name": "stderr",
     "output_type": "stream",
     "text": [
      " 32%|███▏      | 8/25 [03:36<07:34, 26.71s/it]"
     ]
    },
    {
     "name": "stdout",
     "output_type": "stream",
     "text": [
      "ccs f1 score: 0.4785276073619632\n",
      "ccs accuracy: 0.41379310344827586\n",
      "[[ 42  23]\n",
      " [147  78]]\n",
      "lr f1 score: 0.8083140877598153\n",
      "lr accuracy: 0.7137931034482758\n",
      "[[ 32  33]\n",
      " [ 50 175]]\n",
      "ccs f1 score: 0.4984984984984984\n",
      "ccs accuracy: 0.4241379310344828\n",
      "[[ 40  25]\n",
      " [142  83]]\n"
     ]
    },
    {
     "name": "stderr",
     "output_type": "stream",
     "text": [
      " 36%|███▌      | 9/25 [04:02<07:06, 26.64s/it]"
     ]
    },
    {
     "name": "stdout",
     "output_type": "stream",
     "text": [
      "lr f1 score: 0.8755760368663594\n",
      "lr accuracy: 0.8137931034482758\n",
      "[[ 46  19]\n",
      " [ 35 190]]\n",
      "ccs f1 score: 0.3762376237623763\n",
      "ccs accuracy: 0.3482758620689655\n",
      "[[ 44  21]\n",
      " [168  57]]\n"
     ]
    },
    {
     "name": "stderr",
     "output_type": "stream",
     "text": [
      " 40%|████      | 10/25 [04:33<06:59, 27.95s/it]"
     ]
    },
    {
     "name": "stdout",
     "output_type": "stream",
     "text": [
      "lr f1 score: 0.8578088578088578\n",
      "lr accuracy: 0.7896551724137931\n",
      "[[ 45  20]\n",
      " [ 41 184]]\n",
      "ccs f1 score: 0.7407407407407407\n",
      "ccs accuracy: 0.6137931034482759\n",
      "[[ 18  47]\n",
      " [ 65 160]]\n"
     ]
    },
    {
     "name": "stderr",
     "output_type": "stream",
     "text": [
      " 44%|████▍     | 11/25 [05:01<06:29, 27.83s/it]"
     ]
    },
    {
     "name": "stdout",
     "output_type": "stream",
     "text": [
      "lr f1 score: 0.886836027713626\n",
      "lr accuracy: 0.8310344827586207\n",
      "[[ 49  16]\n",
      " [ 33 192]]\n"
     ]
    },
    {
     "name": "stderr",
     "output_type": "stream",
     "text": [
      " 48%|████▊     | 12/25 [05:30<06:06, 28.16s/it]"
     ]
    },
    {
     "name": "stdout",
     "output_type": "stream",
     "text": [
      "ccs f1 score: 0.6917293233082706\n",
      "ccs accuracy: 0.5758620689655173\n",
      "[[ 29  36]\n",
      " [ 87 138]]\n",
      "lr f1 score: 0.8721461187214611\n",
      "lr accuracy: 0.8068965517241379\n",
      "[[ 43  22]\n",
      " [ 34 191]]\n"
     ]
    },
    {
     "name": "stderr",
     "output_type": "stream",
     "text": [
      " 52%|█████▏    | 13/25 [05:58<05:37, 28.15s/it]"
     ]
    },
    {
     "name": "stdout",
     "output_type": "stream",
     "text": [
      "ccs f1 score: 0.31802120141342755\n",
      "ccs accuracy: 0.33448275862068966\n",
      "[[ 52  13]\n",
      " [180  45]]\n",
      "lr f1 score: 0.8787185354691076\n",
      "lr accuracy: 0.8172413793103448\n",
      "[[ 45  20]\n",
      " [ 33 192]]\n",
      "ccs f1 score: 0.31802120141342755\n",
      "ccs accuracy: 0.33448275862068966\n",
      "[[ 52  13]\n",
      " [180  45]]\n"
     ]
    },
    {
     "name": "stderr",
     "output_type": "stream",
     "text": [
      " 56%|█████▌    | 14/25 [06:27<05:13, 28.50s/it]"
     ]
    },
    {
     "name": "stdout",
     "output_type": "stream",
     "text": [
      "lr f1 score: 0.8695652173913043\n",
      "lr accuracy: 0.803448275862069\n",
      "[[ 43  22]\n",
      " [ 35 190]]\n",
      "ccs f1 score: 0.7209876543209877\n",
      "ccs accuracy: 0.6103448275862069\n",
      "[[ 31  34]\n",
      " [ 79 146]]\n"
     ]
    },
    {
     "name": "stderr",
     "output_type": "stream",
     "text": [
      " 60%|██████    | 15/25 [07:00<04:58, 29.82s/it]"
     ]
    },
    {
     "name": "stdout",
     "output_type": "stream",
     "text": [
      "lr f1 score: 0.8656036446469247\n",
      "lr accuracy: 0.7965517241379311\n",
      "[[ 41  24]\n",
      " [ 35 190]]\n",
      "ccs f1 score: 0.44089456869009575\n",
      "ccs accuracy: 0.39655172413793105\n",
      "[[ 46  19]\n",
      " [156  69]]\n"
     ]
    },
    {
     "name": "stderr",
     "output_type": "stream",
     "text": [
      " 64%|██████▍   | 16/25 [07:28<04:24, 29.38s/it]"
     ]
    },
    {
     "name": "stdout",
     "output_type": "stream",
     "text": [
      "lr f1 score: 0.8808988764044943\n",
      "lr accuracy: 0.8172413793103448\n",
      "[[ 41  24]\n",
      " [ 29 196]]\n",
      "ccs f1 score: 0.5\n",
      "ccs accuracy: 0.4413793103448276\n",
      "[[ 47  18]\n",
      " [144  81]]\n"
     ]
    },
    {
     "name": "stderr",
     "output_type": "stream",
     "text": [
      " 68%|██████▊   | 17/25 [07:57<03:53, 29.15s/it]"
     ]
    },
    {
     "name": "stdout",
     "output_type": "stream",
     "text": [
      "lr f1 score: 0.8997772828507795\n",
      "lr accuracy: 0.8448275862068966\n",
      "[[ 43  22]\n",
      " [ 23 202]]\n"
     ]
    },
    {
     "name": "stderr",
     "output_type": "stream",
     "text": [
      " 72%|███████▏  | 18/25 [08:24<03:18, 28.42s/it]"
     ]
    },
    {
     "name": "stdout",
     "output_type": "stream",
     "text": [
      "ccs f1 score: 0.0\n",
      "ccs accuracy: 0.22413793103448276\n",
      "[[ 65   0]\n",
      " [225   0]]\n",
      "lr f1 score: 0.8844444444444445\n",
      "lr accuracy: 0.8206896551724138\n",
      "[[ 39  26]\n",
      " [ 26 199]]\n",
      "ccs f1 score: 0.7714285714285715\n",
      "ccs accuracy: 0.6689655172413793\n",
      "[[ 32  33]\n",
      " [ 63 162]]\n"
     ]
    },
    {
     "name": "stderr",
     "output_type": "stream",
     "text": [
      " 76%|███████▌  | 19/25 [08:52<02:49, 28.26s/it]"
     ]
    },
    {
     "name": "stdout",
     "output_type": "stream",
     "text": [
      "lr f1 score: 0.890380313199105\n",
      "lr accuracy: 0.8310344827586207\n",
      "[[ 42  23]\n",
      " [ 26 199]]\n"
     ]
    },
    {
     "name": "stderr",
     "output_type": "stream",
     "text": [
      " 80%|████████  | 20/25 [09:19<02:19, 27.90s/it]"
     ]
    },
    {
     "name": "stdout",
     "output_type": "stream",
     "text": [
      "ccs f1 score: 0.6750629722921915\n",
      "ccs accuracy: 0.5551724137931034\n",
      "[[ 27  38]\n",
      " [ 91 134]]\n",
      "lr f1 score: 0.912280701754386\n",
      "lr accuracy: 0.8620689655172413\n",
      "[[ 42  23]\n",
      " [ 17 208]]\n"
     ]
    },
    {
     "name": "stderr",
     "output_type": "stream",
     "text": [
      " 84%|████████▍ | 21/25 [09:44<01:48, 27.06s/it]"
     ]
    },
    {
     "name": "stdout",
     "output_type": "stream",
     "text": [
      "ccs f1 score: 0.5147928994082841\n",
      "ccs accuracy: 0.43448275862068964\n",
      "[[ 39  26]\n",
      " [138  87]]\n",
      "lr f1 score: 0.8749999999999999\n",
      "lr accuracy: 0.8068965517241379\n",
      "[[ 38  27]\n",
      " [ 29 196]]\n"
     ]
    },
    {
     "name": "stderr",
     "output_type": "stream",
     "text": [
      " 88%|████████▊ | 22/25 [10:10<01:20, 26.98s/it]"
     ]
    },
    {
     "name": "stdout",
     "output_type": "stream",
     "text": [
      "ccs f1 score: 0.49079754601226994\n",
      "ccs accuracy: 0.42758620689655175\n",
      "[[ 44  21]\n",
      " [145  80]]\n",
      "lr f1 score: 0.8775055679287305\n",
      "lr accuracy: 0.8103448275862069\n",
      "[[ 38  27]\n",
      " [ 28 197]]\n"
     ]
    },
    {
     "name": "stderr",
     "output_type": "stream",
     "text": [
      " 92%|█████████▏| 23/25 [10:36<00:53, 26.59s/it]"
     ]
    },
    {
     "name": "stdout",
     "output_type": "stream",
     "text": [
      "ccs f1 score: 0.4596273291925467\n",
      "ccs accuracy: 0.4\n",
      "[[ 42  23]\n",
      " [151  74]]\n",
      "lr f1 score: 0.8838268792710706\n",
      "lr accuracy: 0.8241379310344827\n",
      "[[ 45  20]\n",
      " [ 31 194]]\n"
     ]
    },
    {
     "name": "stderr",
     "output_type": "stream",
     "text": [
      " 96%|█████████▌| 24/25 [11:02<00:26, 26.29s/it]"
     ]
    },
    {
     "name": "stdout",
     "output_type": "stream",
     "text": [
      "ccs f1 score: 0.5235294117647059\n",
      "ccs accuracy: 0.4413793103448276\n",
      "[[ 39  26]\n",
      " [136  89]]\n",
      "lr f1 score: 0.867579908675799\n",
      "lr accuracy: 0.8\n",
      "[[ 42  23]\n",
      " [ 35 190]]\n"
     ]
    },
    {
     "name": "stderr",
     "output_type": "stream",
     "text": [
      "100%|██████████| 25/25 [11:27<00:00, 27.50s/it]"
     ]
    },
    {
     "name": "stdout",
     "output_type": "stream",
     "text": [
      "ccs f1 score: 0.31802120141342755\n",
      "ccs accuracy: 0.33448275862068966\n",
      "[[ 52  13]\n",
      " [180  45]]\n",
      "lr f1 score: 0.8545454545454546\n",
      "lr accuracy: 0.7793103448275862\n",
      "[[ 38  27]\n",
      " [ 37 188]]\n"
     ]
    },
    {
     "name": "stderr",
     "output_type": "stream",
     "text": [
      "\n"
     ]
    },
    {
     "data": {
      "image/png": "[encoded data removed]",
      "text/plain": [
       "<Figure size 640x480 with 1 Axes>"
      ]
     },
     "metadata": {},
     "output_type": "display_data"
    }
   ],
   "source": [
    "# This ensures we always get the same random sample\n",
    "np.random.seed(42)\n",
    "SAVE = True\n",
    "# trial_names = [\"gpt2\", \"gpt2-medium\", \"gpt2-large\", \"gpt2-xl\"]\n",
    "trials = [\n",
    "    {\"trial_name\": \"roberta-large_all-prompts\",\n",
    "     \"saved_names\": [f\"roberta-large_prompt{i}\" for i in range(5)]},\n",
    "     {\"trial_name\": \"roberta-base_all-prompts\",\n",
    "     \"saved_names\": [f\"roberta-base_prompt{i}\" for i in range(5)]},\n",
    "     {\"trial_name\": \"gpt2_all-prompts\",\n",
    "     \"saved_names\": [f\"gpt2_prompt{i}\" for i in range(5)]},\n",
    "     {\"trial_name\": \"gpt2-medium_all-prompts\",\n",
    "     \"saved_names\": [f\"gpt2-medium_prompt{i}\" for i in range(5)]},\n",
    "     {\"trial_name\": \"gpt2-large_all-prompts\",\n",
    "     \"saved_names\": [f\"gpt2-large_prompt{i}\" for i in range(5)]},\n",
    "     {\"trial_name\": \"gpt2-xl_all-prompts\",\n",
    "     \"saved_names\": [f\"gpt2-xl_prompt{i}\" for i in range(5)]},\n",
    "]\n",
    "for trial in trials:\n",
    "    ccs_f1s, lr_f1s = train_layers(trial[\"saved_names\"])\n",
    "    plot_f1(ccs_f1s, lr_f1s)\n",
    "\n",
    "    if SAVE:\n",
    "        results_dir = f\"results/{trial['trial_name']}\"\n",
    "        if not os.path.exists(os.path.join(os.getcwd(), results_dir)):\n",
    "            os.mkdir(os.path.join(os.getcwd(), results_dir))\n",
    "        np.save(os.path.join(os.getcwd(), f\"results/{trial['trial_name']}/ccs_f1s.npy\"), np.array(ccs_f1s))\n",
    "        np.save(os.path.join(os.getcwd(), f\"results/{trial['trial_name']}/lr_f1s.npy\"), np.array(lr_f1s))\n",
    "\n",
    "        with open(f\"results/{trial['trial_name']}/results.txt\", \"w\") as f:\n",
    "            f.write(f\"{trial['trial_name']}\\nccs\\t{max(ccs_f1s)}\\nlr\\t{max(lr_f1s)}\")"
   ]
  }
 ],
 "metadata": {
  "environment": {
   "kernel": "python3",
   "name": "pytorch-gpu.2-0.m111",
   "type": "gcloud",
   "uri": "gcr.io/deeplearning-platform-release/pytorch-gpu.2-0:m111"
  },
  "kernelspec": {
   "display_name": "Python 3",
   "language": "python",
   "name": "python3"
  },
  "language_info": {
   "codemirror_mode": {
    "name": "ipython",
    "version": 3
   },
   "file_extension": ".py",
   "mimetype": "text/x-python",
   "name": "python",
   "nbconvert_exporter": "python",
   "pygments_lexer": "ipython3",
   "version": "3.11.6"
  }
 },
 "nbformat": 4,
 "nbformat_minor": 5
}
