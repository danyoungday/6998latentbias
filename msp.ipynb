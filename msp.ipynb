{
 "cells": [
  {
   "cell_type": "code",
   "execution_count": 38,
   "metadata": {},
   "outputs": [],
   "source": [
    "import os\n",
    "import torch\n",
    "import pandas as pd\n",
    "import numpy as np\n",
    "from tqdm import tqdm\n",
    "\n",
    "from transformers import AutoTokenizer, AutoModelForCausalLM, AutoModelForMaskedLM, AutoModelForSeq2SeqLM"
   ]
  },
  {
   "cell_type": "code",
   "execution_count": 39,
   "metadata": {},
   "outputs": [],
   "source": [
    "DEVICE = \"mps\"\n",
    "\n",
    "CACHE_DIR = os.path.join(os.getcwd(), \"cache_dir\")\n",
    "DATA_DIR = os.path.join(os.getcwd(), \"data\")\n",
    "CROWSPAIRS_PATH = os.path.join(DATA_DIR, \"crows_pairs_anonymized.csv\")\n",
    "RESULTS_DIR = os.path.join(os.getcwd(), \"results/msp\")"
   ]
  },
  {
   "cell_type": "code",
   "execution_count": 45,
   "metadata": {},
   "outputs": [],
   "source": [
    "def mask_differences(A, B, mask):\n",
    "    A_masked = A.detach().clone().squeeze()\n",
    "    B_masked = B.detach().clone().squeeze()\n",
    "    a_start, a_end = 0, len(A) - 1\n",
    "    b_start, b_end = 0, len(B) - 1\n",
    "    while A_masked[a_start] == B_masked[b_start]:\n",
    "        a_start += 1\n",
    "        b_start += 1\n",
    "    while A_masked[a_end] == B_masked[b_end]:\n",
    "        a_end -= 1\n",
    "        b_end -= 1\n",
    "\n",
    "    A_masked[a_start:a_end+1] = mask\n",
    "    B_masked[b_start:b_end+1] = mask\n",
    "    return A_masked.unsqueeze(0), B_masked.unsqueeze(0)\n",
    "\n",
    "\n",
    "def get_perplexity(input_ids, model, tokenizer, model_type):\n",
    "    if model_type == \"decoder\":\n",
    "        out = model(input_ids, labels=input_ids)\n",
    "    elif model_type == \"encoder-decoder\":\n",
    "        decoder_input_ids = tokenizer(\"\", return_tensors=\"pt\").input_ids.to(model.device)\n",
    "        out = model(input_ids, decoder_input_ids=decoder_input_ids, labels=decoder_input_ids)\n",
    "    else:\n",
    "        assert False, \"Give a correct model type\"\n",
    "    loss = out.loss\n",
    "    return torch.exp(loss).item()\n",
    "\n",
    "\n",
    "def compute_all_perplexities(text, counter, model, tokenizer, model_type):\n",
    "    \n",
    "    # Add the EOS token if we're decoding\n",
    "    if model_type == \"decoder\":\n",
    "        text += tokenizer.eos_token\n",
    "        counter += tokenizer.eos_token\n",
    "\n",
    "    in_tokens = tokenizer(text, return_tensors=\"pt\").input_ids.to(model.device)\n",
    "    counter_tokens = tokenizer(counter, return_tensors=\"pt\").input_ids.to(model.device)\n",
    "    mask_tokens = mask_differences(in_tokens, counter_tokens, tokenizer.unk_token_id)[0]\n",
    "\n",
    "    perp = get_perplexity(in_tokens, model, tokenizer, model_type)\n",
    "    counter_perp = get_perplexity(counter_tokens, model, tokenizer, model_type)\n",
    "    masked_perp = get_perplexity(mask_tokens, model, tokenizer, model_type)\n",
    "    return perp, counter_perp, masked_perp"
   ]
  },
  {
   "cell_type": "code",
   "execution_count": 41,
   "metadata": {},
   "outputs": [],
   "source": [
    "def parse_crowspairs(crowspairs_path, filter=None):\n",
    "    df = pd.read_csv(crowspairs_path)\n",
    "    df = df[df[\"stereo_antistereo\"] == \"stereo\"]\n",
    "\n",
    "    # Filter by filter\n",
    "    if filter:\n",
    "        df = df[df[\"bias_type\"].isin(filter)]\n",
    "\n",
    "    return df[\"sent_more\"].tolist(), df[\"sent_less\"].tolist()"
   ]
  },
  {
   "cell_type": "code",
   "execution_count": 42,
   "metadata": {},
   "outputs": [],
   "source": [
    "def msp(trials, verbose=True):\n",
    "    for trial in trials:\n",
    "        # Load data\n",
    "        texts, counters = parse_crowspairs(CROWSPAIRS_PATH, filter=trial[\"filter\"])\n",
    "\n",
    "        if trial[\"model_type\"] == \"decoder\":\n",
    "            model = AutoModelForCausalLM.from_pretrained(trial[\"model_name\"], cache_dir=CACHE_DIR)\n",
    "        elif trial[\"model_type\"] == \"encoder-decoder\":\n",
    "            model = AutoModelForSeq2SeqLM.from_pretrained(trial[\"model_name\"], cache_dir=CACHE_DIR)\n",
    "        else:\n",
    "            assert False, \"Input a valid model type\"\n",
    "        model = model.to(DEVICE)\n",
    "        tokenizer = AutoTokenizer.from_pretrained(trial[\"model_name\"], cache_dir=CACHE_DIR)\n",
    "\n",
    "        base_perps = []\n",
    "        counter_perps = []\n",
    "        masked_perps = []\n",
    "        for text, counter in tqdm(list(zip(texts, counters))):\n",
    "            base_perp, counter_perp, masked_perp = compute_all_perplexities(text, counter, model, tokenizer, trial[\"model_type\"])\n",
    "            base_perps.append(base_perp)\n",
    "            counter_perps.append(counter_perp)\n",
    "            masked_perps.append(masked_perp)\n",
    "\n",
    "        base_perps = np.array(base_perps)\n",
    "        counter_perps = np.array(counter_perps)\n",
    "        masked_perps = np.array(masked_perps)\n",
    "        \n",
    "        # Save hidden states\n",
    "        root = os.path.join(RESULTS_DIR, trial[\"trial_name\"])\n",
    "        if not os.path.exists(root):\n",
    "            print(f\"Creating directory {root}\")\n",
    "            os.makedirs(root)\n",
    "        np.save(os.path.join(root, \"base_perps.npy\"), base_perps)\n",
    "        np.save(os.path.join(root, \"counter_perps.npy\"), counter_perps)\n",
    "        np.save(os.path.join(root, \"masked_perps.npy\"), masked_perps)\n",
    "\n",
    "        if verbose:\n",
    "            print(base_perps.mean(), counter_perps.mean(), masked_perps.mean())"
   ]
  },
  {
   "cell_type": "code",
   "execution_count": 43,
   "metadata": {},
   "outputs": [],
   "source": [
    "gpt2_trials = [\n",
    "    {\"trial_name\": \"gpt2\",\n",
    "     \"model_name\": \"gpt2\",\n",
    "     \"model_type\": \"decoder\",\n",
    "     \"filter\": [\"race-color\"]}\n",
    "]"
   ]
  },
  {
   "cell_type": "code",
   "execution_count": 44,
   "metadata": {},
   "outputs": [
    {
     "name": "stderr",
     "output_type": "stream",
     "text": [
      "100%|██████████| 473/473 [01:22<00:00,  5.71it/s]"
     ]
    },
    {
     "name": "stdout",
     "output_type": "stream",
     "text": [
      "128.95556921686733 134.00291123904336 7376.902352246371\n"
     ]
    },
    {
     "name": "stderr",
     "output_type": "stream",
     "text": [
      "\n"
     ]
    }
   ],
   "source": [
    "msp(gpt2_trials)"
   ]
  }
 ],
 "metadata": {
  "kernelspec": {
   "display_name": ".venv",
   "language": "python",
   "name": "python3"
  },
  "language_info": {
   "codemirror_mode": {
    "name": "ipython",
    "version": 3
   },
   "file_extension": ".py",
   "mimetype": "text/x-python",
   "name": "python",
   "nbconvert_exporter": "python",
   "pygments_lexer": "ipython3",
   "version": "3.11.6"
  }
 },
 "nbformat": 4,
 "nbformat_minor": 2
}
